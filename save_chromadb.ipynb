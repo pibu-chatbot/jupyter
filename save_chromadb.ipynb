{
  "cells": [
    {
      "cell_type": "code",
      "execution_count": null,
      "metadata": {},
      "outputs": [],
      "source": []
    },
    {
      "cell_type": "code",
      "execution_count": null,
      "metadata": {
        "id": "WV4UcEs_v1nA"
      },
      "outputs": [],
      "source": [
        "import pandas as pd\n",
        "import chromadb\n",
        "from chromadb.utils import embedding_functions\n",
        "from langchain.embeddings import HuggingFaceEmbeddings\n",
        "from langchain.vectorstores import Chroma\n",
        "from langchain.docstore.document import Document"
      ]
    },
    {
      "cell_type": "code",
      "execution_count": null,
      "metadata": {
        "id": "rxL7Buopv851"
      },
      "outputs": [],
      "source": [
        "# 1. 데이터 로드\n",
        "\n",
        "ingredients_df = pd.read_csv(\"ingredients.csv\")\n",
        "cosmetics_df = pd.read_csv(\"cosmetics.csv\")"
      ]
    },
    {
      "cell_type": "code",
      "execution_count": null,
      "metadata": {
        "id": "c-bc6whiwViP"
      },
      "outputs": [],
      "source": [
        "# 2. 임베딩 모델 준비\n",
        "embedding_model = HuggingFaceEmbeddings(\n",
        "    model_name=\"sentence-transformers/all-MiniLM-L6-v2\"\n",
        ")"
      ]
    },
    {
      "cell_type": "code",
      "execution_count": null,
      "metadata": {
        "id": "FswQlTuVwWs5"
      },
      "outputs": [],
      "source": [
        "# 3. CSV -> LangChain Document로 변환\n",
        "documents = []\n",
        "cosmetics = []"
      ]
    },
    {
      "cell_type": "code",
      "execution_count": null,
      "metadata": {
        "id": "bfgM970iwYKX"
      },
      "outputs": [],
      "source": [
        "# 성분 Document\n",
        "for _, row in ingredients_df.iterrows():\n",
        "    content = row['description']\n",
        "    metadata = {\n",
        "        \"type\": \"ingredient\",\n",
        "        \"name\": row['ingredient']\n",
        "    }\n",
        "    documents.append(Document(page_content=content, metadata=metadata))"
      ]
    },
    {
      "cell_type": "code",
      "execution_count": null,
      "metadata": {
        "id": "Kt-2F6aqwaod"
      },
      "outputs": [],
      "source": [
        "# 화장품 Document\n",
        "for _, row in cosmetics_df.iterrows():\n",
        "    content = f\"제품명: {row['product_name']}, 성분: {row['ingredient']}, 리뷰: {row['reviews']}, 사용법: {row['usage']}\"\n",
        "    metadata = {\n",
        "        \"type\": \"cosmetic\",\n",
        "        \"product_name\": row['product_name']\n",
        "    }\n",
        "    cosmetics.append(Document(page_content=content, metadata=metadata))\n",
        "    documents.append(Document(page_content=content, metadata=metadata))"
      ]
    },
    {
      "cell_type": "code",
      "execution_count": null,
      "metadata": {
        "id": "MEgTCM3Jwdpv"
      },
      "outputs": [],
      "source": [
        "# 4. Chroma 벡터 DB로 저장\n",
        "\n",
        "vectordb = Chroma.from_documents(\n",
        "    documents=documents,\n",
        "    embedding=embedding_model,\n",
        "    persist_directory=\"./chroma_db\"\n",
        ")\n",
        "\n",
        "vectordb.persist()\n",
        "print(\"ChromaDB에 저장 완료\")"
      ]
    },
    {
      "cell_type": "code",
      "execution_count": null,
      "metadata": {
        "id": "eD1SbTVdwfsQ"
      },
      "outputs": [],
      "source": [
        "cosmetic_vectordb = Chroma.from_documents(\n",
        "    documents=cosmetics,\n",
        "    embedding=embedding_model,\n",
        "    persist_directory=\"./cosmetic_chroma_db\"\n",
        ")\n",
        "\n",
        "cosmetic_vectordb.persist()\n",
        "print(\"ChromaDB에 저장 완료\")"
      ]
    }
  ],
  "metadata": {
    "colab": {
      "provenance": []
    },
    "kernelspec": {
      "display_name": "Python 3",
      "name": "python3"
    },
    "language_info": {
      "name": "python"
    }
  },
  "nbformat": 4,
  "nbformat_minor": 0
}

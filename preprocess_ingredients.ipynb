{
 "cells": [
  {
   "cell_type": "code",
   "execution_count": 1,
   "id": "7203e5b7",
   "metadata": {},
   "outputs": [],
   "source": [
    "import pandas as pd"
   ]
  },
  {
   "cell_type": "markdown",
   "id": "5cfa5185",
   "metadata": {},
   "source": [
    "# 데이터 로드하기\n",
    "- pandas의 read_csv 함수 사용"
   ]
  },
  {
   "cell_type": "code",
   "execution_count": 3,
   "id": "de731148",
   "metadata": {},
   "outputs": [
    {
     "data": {
      "text/html": [
       "<div>\n",
       "<style scoped>\n",
       "    .dataframe tbody tr th:only-of-type {\n",
       "        vertical-align: middle;\n",
       "    }\n",
       "\n",
       "    .dataframe tbody tr th {\n",
       "        vertical-align: top;\n",
       "    }\n",
       "\n",
       "    .dataframe thead th {\n",
       "        text-align: right;\n",
       "    }\n",
       "</style>\n",
       "<table border=\"1\" class=\"dataframe\">\n",
       "  <thead>\n",
       "    <tr style=\"text-align: right;\">\n",
       "      <th></th>\n",
       "      <th>ingredient</th>\n",
       "      <th>description</th>\n",
       "    </tr>\n",
       "  </thead>\n",
       "  <tbody>\n",
       "    <tr>\n",
       "      <th>0</th>\n",
       "      <td>힙시지구스 울마리우스균사체추출물\\nHypsizygus Ulmarius Myceliu...</td>\n",
       "      <td>힙시지구스 울마리우스균사체추출물은 피부 보습과 진정을 돕는 성분으로, 항산화 효과가...</td>\n",
       "    </tr>\n",
       "    <tr>\n",
       "      <th>1</th>\n",
       "      <td>힙네아 무스키포르미스추출물\\nHypnea Musciformis Extract</td>\n",
       "      <td>힙네아 무스키포르미스 추출물은 홍조류에서 추출된 성분으로, 보습 및 피부 진정 효과...</td>\n",
       "    </tr>\n",
       "    <tr>\n",
       "      <th>2</th>\n",
       "      <td>힙티스 수아베올렌스씨오일\\nHyptis Suaveolens Seed Oil</td>\n",
       "      <td>히프티스 수아베올렌스씨오일은 피부 보습과 진정에 도움을 줄 수 있는 식물성 오일입니...</td>\n",
       "    </tr>\n",
       "    <tr>\n",
       "      <th>3</th>\n",
       "      <td>히푸릭애씨드\\nHippuric Acid</td>\n",
       "      <td>히푸릭애씨드(Hippuric Acid)는 주로 항산화 및 항균 작용을 가지고 있어 ...</td>\n",
       "    </tr>\n",
       "    <tr>\n",
       "      <th>4</th>\n",
       "      <td>히오스신, 그 염류 및 유도체\\nHyoscine, its salts and deri...</td>\n",
       "      <td>히오스신, 그 염류 및 유도체는 일반적으로 진정 및 항콜린 작용을 하는 화합물입니다...</td>\n",
       "    </tr>\n",
       "    <tr>\n",
       "      <th>...</th>\n",
       "      <td>...</td>\n",
       "      <td>...</td>\n",
       "    </tr>\n",
       "    <tr>\n",
       "      <th>25521</th>\n",
       "      <td>산양삼부정근</td>\n",
       "      <td>NaN</td>\n",
       "    </tr>\n",
       "    <tr>\n",
       "      <th>25522</th>\n",
       "      <td>태움·용융소금</td>\n",
       "      <td>NaN</td>\n",
       "    </tr>\n",
       "    <tr>\n",
       "      <th>25523</th>\n",
       "      <td>식물성스쿠알란</td>\n",
       "      <td>NaN</td>\n",
       "    </tr>\n",
       "    <tr>\n",
       "      <th>25524</th>\n",
       "      <td>목어석가루</td>\n",
       "      <td>NaN</td>\n",
       "    </tr>\n",
       "    <tr>\n",
       "      <th>25525</th>\n",
       "      <td>가공소금</td>\n",
       "      <td>NaN</td>\n",
       "    </tr>\n",
       "  </tbody>\n",
       "</table>\n",
       "<p>25526 rows × 2 columns</p>\n",
       "</div>"
      ],
      "text/plain": [
       "                                              ingredient  \\\n",
       "0      힙시지구스 울마리우스균사체추출물\\nHypsizygus Ulmarius Myceliu...   \n",
       "1             힙네아 무스키포르미스추출물\\nHypnea Musciformis Extract   \n",
       "2              힙티스 수아베올렌스씨오일\\nHyptis Suaveolens Seed Oil   \n",
       "3                                  히푸릭애씨드\\nHippuric Acid   \n",
       "4      히오스신, 그 염류 및 유도체\\nHyoscine, its salts and deri...   \n",
       "...                                                  ...   \n",
       "25521                                             산양삼부정근   \n",
       "25522                                            태움·용융소금   \n",
       "25523                                            식물성스쿠알란   \n",
       "25524                                              목어석가루   \n",
       "25525                                               가공소금   \n",
       "\n",
       "                                             description  \n",
       "0      힙시지구스 울마리우스균사체추출물은 피부 보습과 진정을 돕는 성분으로, 항산화 효과가...  \n",
       "1      힙네아 무스키포르미스 추출물은 홍조류에서 추출된 성분으로, 보습 및 피부 진정 효과...  \n",
       "2      히프티스 수아베올렌스씨오일은 피부 보습과 진정에 도움을 줄 수 있는 식물성 오일입니...  \n",
       "3      히푸릭애씨드(Hippuric Acid)는 주로 항산화 및 항균 작용을 가지고 있어 ...  \n",
       "4      히오스신, 그 염류 및 유도체는 일반적으로 진정 및 항콜린 작용을 하는 화합물입니다...  \n",
       "...                                                  ...  \n",
       "25521                                                NaN  \n",
       "25522                                                NaN  \n",
       "25523                                                NaN  \n",
       "25524                                                NaN  \n",
       "25525                                                NaN  \n",
       "\n",
       "[25526 rows x 2 columns]"
      ]
     },
     "execution_count": 3,
     "metadata": {},
     "output_type": "execute_result"
    }
   ],
   "source": [
    "df = pd.read_csv('./ingredients.csv', encoding='utf-8')\n",
    "df"
   ]
  },
  {
   "cell_type": "code",
   "execution_count": 14,
   "id": "09d2cf9a",
   "metadata": {},
   "outputs": [
    {
     "data": {
      "text/html": [
       "<div>\n",
       "<style scoped>\n",
       "    .dataframe tbody tr th:only-of-type {\n",
       "        vertical-align: middle;\n",
       "    }\n",
       "\n",
       "    .dataframe tbody tr th {\n",
       "        vertical-align: top;\n",
       "    }\n",
       "\n",
       "    .dataframe thead th {\n",
       "        text-align: right;\n",
       "    }\n",
       "</style>\n",
       "<table border=\"1\" class=\"dataframe\">\n",
       "  <thead>\n",
       "    <tr style=\"text-align: right;\">\n",
       "      <th></th>\n",
       "      <th>ingredient</th>\n",
       "      <th>description</th>\n",
       "    </tr>\n",
       "  </thead>\n",
       "  <tbody>\n",
       "    <tr>\n",
       "      <th>count</th>\n",
       "      <td>25526</td>\n",
       "      <td>23544</td>\n",
       "    </tr>\n",
       "    <tr>\n",
       "      <th>unique</th>\n",
       "      <td>25522</td>\n",
       "      <td>23544</td>\n",
       "    </tr>\n",
       "    <tr>\n",
       "      <th>top</th>\n",
       "      <td>피그먼트녹색7호</td>\n",
       "      <td>\"눈\"은 화장품 성분이 아니며, 얼굴 기관 중 하나로 여러 화장품에서 효과를 높이기...</td>\n",
       "    </tr>\n",
       "    <tr>\n",
       "      <th>freq</th>\n",
       "      <td>2</td>\n",
       "      <td>1</td>\n",
       "    </tr>\n",
       "  </tbody>\n",
       "</table>\n",
       "</div>"
      ],
      "text/plain": [
       "       ingredient                                        description\n",
       "count       25526                                              23544\n",
       "unique      25522                                              23544\n",
       "top      피그먼트녹색7호  \"눈\"은 화장품 성분이 아니며, 얼굴 기관 중 하나로 여러 화장품에서 효과를 높이기...\n",
       "freq            2                                                  1"
      ]
     },
     "execution_count": 14,
     "metadata": {},
     "output_type": "execute_result"
    }
   ],
   "source": [
    "df.describe()"
   ]
  },
  {
   "cell_type": "code",
   "execution_count": 20,
   "id": "bbd770a2",
   "metadata": {},
   "outputs": [
    {
     "data": {
      "text/plain": [
       "0"
      ]
     },
     "execution_count": 20,
     "metadata": {},
     "output_type": "execute_result"
    }
   ],
   "source": [
    "sum(df['ingredient'].isnull())"
   ]
  },
  {
   "cell_type": "code",
   "execution_count": 18,
   "id": "3ea60105",
   "metadata": {},
   "outputs": [
    {
     "data": {
      "text/plain": [
       "1982"
      ]
     },
     "execution_count": 18,
     "metadata": {},
     "output_type": "execute_result"
    }
   ],
   "source": [
    "sum(df['description'].isnull())"
   ]
  },
  {
   "cell_type": "markdown",
   "id": "0f3e7558",
   "metadata": {},
   "source": [
    "# ingredient 컬럼의 이름 정제하기\n",
    "- \\n이 있다면 split하고, \\n 뒤에 있는 단어 삭제"
   ]
  },
  {
   "cell_type": "code",
   "execution_count": 15,
   "id": "6b494388",
   "metadata": {},
   "outputs": [],
   "source": [
    "def clean_ingredient(text):\n",
    "    if not isinstance(text, str):\n",
    "        return text\n",
    "    \n",
    "    text = text.split('\\n')[0]\n",
    "    return text"
   ]
  },
  {
   "cell_type": "code",
   "execution_count": 19,
   "id": "00595201",
   "metadata": {},
   "outputs": [
    {
     "data": {
      "text/html": [
       "<div>\n",
       "<style scoped>\n",
       "    .dataframe tbody tr th:only-of-type {\n",
       "        vertical-align: middle;\n",
       "    }\n",
       "\n",
       "    .dataframe tbody tr th {\n",
       "        vertical-align: top;\n",
       "    }\n",
       "\n",
       "    .dataframe thead th {\n",
       "        text-align: right;\n",
       "    }\n",
       "</style>\n",
       "<table border=\"1\" class=\"dataframe\">\n",
       "  <thead>\n",
       "    <tr style=\"text-align: right;\">\n",
       "      <th></th>\n",
       "      <th>ingredient</th>\n",
       "      <th>description</th>\n",
       "    </tr>\n",
       "  </thead>\n",
       "  <tbody>\n",
       "    <tr>\n",
       "      <th>0</th>\n",
       "      <td>힙시지구스 울마리우스균사체추출물</td>\n",
       "      <td>힙시지구스 울마리우스균사체추출물은 피부 보습과 진정을 돕는 성분으로, 항산화 효과가...</td>\n",
       "    </tr>\n",
       "    <tr>\n",
       "      <th>1</th>\n",
       "      <td>힙네아 무스키포르미스추출물</td>\n",
       "      <td>힙네아 무스키포르미스 추출물은 홍조류에서 추출된 성분으로, 보습 및 피부 진정 효과...</td>\n",
       "    </tr>\n",
       "    <tr>\n",
       "      <th>2</th>\n",
       "      <td>힙티스 수아베올렌스씨오일</td>\n",
       "      <td>히프티스 수아베올렌스씨오일은 피부 보습과 진정에 도움을 줄 수 있는 식물성 오일입니...</td>\n",
       "    </tr>\n",
       "    <tr>\n",
       "      <th>3</th>\n",
       "      <td>히푸릭애씨드</td>\n",
       "      <td>히푸릭애씨드(Hippuric Acid)는 주로 항산화 및 항균 작용을 가지고 있어 ...</td>\n",
       "    </tr>\n",
       "    <tr>\n",
       "      <th>4</th>\n",
       "      <td>히오스신, 그 염류 및 유도체</td>\n",
       "      <td>히오스신, 그 염류 및 유도체는 일반적으로 진정 및 항콜린 작용을 하는 화합물입니다...</td>\n",
       "    </tr>\n",
       "    <tr>\n",
       "      <th>...</th>\n",
       "      <td>...</td>\n",
       "      <td>...</td>\n",
       "    </tr>\n",
       "    <tr>\n",
       "      <th>25521</th>\n",
       "      <td>산양삼부정근</td>\n",
       "      <td>NaN</td>\n",
       "    </tr>\n",
       "    <tr>\n",
       "      <th>25522</th>\n",
       "      <td>태움·용융소금</td>\n",
       "      <td>NaN</td>\n",
       "    </tr>\n",
       "    <tr>\n",
       "      <th>25523</th>\n",
       "      <td>식물성스쿠알란</td>\n",
       "      <td>NaN</td>\n",
       "    </tr>\n",
       "    <tr>\n",
       "      <th>25524</th>\n",
       "      <td>목어석가루</td>\n",
       "      <td>NaN</td>\n",
       "    </tr>\n",
       "    <tr>\n",
       "      <th>25525</th>\n",
       "      <td>가공소금</td>\n",
       "      <td>NaN</td>\n",
       "    </tr>\n",
       "  </tbody>\n",
       "</table>\n",
       "<p>25526 rows × 2 columns</p>\n",
       "</div>"
      ],
      "text/plain": [
       "              ingredient                                        description\n",
       "0      힙시지구스 울마리우스균사체추출물  힙시지구스 울마리우스균사체추출물은 피부 보습과 진정을 돕는 성분으로, 항산화 효과가...\n",
       "1         힙네아 무스키포르미스추출물  힙네아 무스키포르미스 추출물은 홍조류에서 추출된 성분으로, 보습 및 피부 진정 효과...\n",
       "2          힙티스 수아베올렌스씨오일  히프티스 수아베올렌스씨오일은 피부 보습과 진정에 도움을 줄 수 있는 식물성 오일입니...\n",
       "3                 히푸릭애씨드  히푸릭애씨드(Hippuric Acid)는 주로 항산화 및 항균 작용을 가지고 있어 ...\n",
       "4       히오스신, 그 염류 및 유도체  히오스신, 그 염류 및 유도체는 일반적으로 진정 및 항콜린 작용을 하는 화합물입니다...\n",
       "...                  ...                                                ...\n",
       "25521             산양삼부정근                                                NaN\n",
       "25522            태움·용융소금                                                NaN\n",
       "25523            식물성스쿠알란                                                NaN\n",
       "25524              목어석가루                                                NaN\n",
       "25525               가공소금                                                NaN\n",
       "\n",
       "[25526 rows x 2 columns]"
      ]
     },
     "execution_count": 19,
     "metadata": {},
     "output_type": "execute_result"
    }
   ],
   "source": [
    "df['ingredient'] = df['ingredient'].apply(clean_ingredient)\n",
    "df"
   ]
  },
  {
   "cell_type": "markdown",
   "id": "4330f469",
   "metadata": {},
   "source": [
    "# description 컬럼의 nan 삭제하기\n",
    "- dropna"
   ]
  },
  {
   "cell_type": "code",
   "execution_count": 21,
   "id": "7165324f",
   "metadata": {},
   "outputs": [
    {
     "data": {
      "text/html": [
       "<div>\n",
       "<style scoped>\n",
       "    .dataframe tbody tr th:only-of-type {\n",
       "        vertical-align: middle;\n",
       "    }\n",
       "\n",
       "    .dataframe tbody tr th {\n",
       "        vertical-align: top;\n",
       "    }\n",
       "\n",
       "    .dataframe thead th {\n",
       "        text-align: right;\n",
       "    }\n",
       "</style>\n",
       "<table border=\"1\" class=\"dataframe\">\n",
       "  <thead>\n",
       "    <tr style=\"text-align: right;\">\n",
       "      <th></th>\n",
       "      <th>ingredient</th>\n",
       "      <th>description</th>\n",
       "    </tr>\n",
       "  </thead>\n",
       "  <tbody>\n",
       "    <tr>\n",
       "      <th>0</th>\n",
       "      <td>힙시지구스 울마리우스균사체추출물</td>\n",
       "      <td>힙시지구스 울마리우스균사체추출물은 피부 보습과 진정을 돕는 성분으로, 항산화 효과가...</td>\n",
       "    </tr>\n",
       "    <tr>\n",
       "      <th>1</th>\n",
       "      <td>힙네아 무스키포르미스추출물</td>\n",
       "      <td>힙네아 무스키포르미스 추출물은 홍조류에서 추출된 성분으로, 보습 및 피부 진정 효과...</td>\n",
       "    </tr>\n",
       "    <tr>\n",
       "      <th>2</th>\n",
       "      <td>힙티스 수아베올렌스씨오일</td>\n",
       "      <td>히프티스 수아베올렌스씨오일은 피부 보습과 진정에 도움을 줄 수 있는 식물성 오일입니...</td>\n",
       "    </tr>\n",
       "    <tr>\n",
       "      <th>3</th>\n",
       "      <td>히푸릭애씨드</td>\n",
       "      <td>히푸릭애씨드(Hippuric Acid)는 주로 항산화 및 항균 작용을 가지고 있어 ...</td>\n",
       "    </tr>\n",
       "    <tr>\n",
       "      <th>4</th>\n",
       "      <td>히오스신, 그 염류 및 유도체</td>\n",
       "      <td>히오스신, 그 염류 및 유도체는 일반적으로 진정 및 항콜린 작용을 하는 화합물입니다...</td>\n",
       "    </tr>\n",
       "    <tr>\n",
       "      <th>...</th>\n",
       "      <td>...</td>\n",
       "      <td>...</td>\n",
       "    </tr>\n",
       "    <tr>\n",
       "      <th>23539</th>\n",
       "      <td>(1,3,5)-트라이아진-2,4-비스-{[4-(2-에틸-헥실옥시)-2-하이드록시]-...</td>\n",
       "      <td>(1,3,5)-트라이아진 유도체인 이 성분은 자외선 차단제로 사용됩니다. 이 성분은...</td>\n",
       "    </tr>\n",
       "    <tr>\n",
       "      <th>23540</th>\n",
       "      <td>(1)알칼리설파이드류</td>\n",
       "      <td>(1) 알칼리설파이드류는 주로 헤어 리무버 제품에서 모발을 제거하는 데 사용됩니다....</td>\n",
       "    </tr>\n",
       "    <tr>\n",
       "      <th>23541</th>\n",
       "      <td>(+/-)-테트라하이드로퍼푸릴-(R)-2-[4-(6-클로로퀴노살린-2-일옥시)페닐옥...</td>\n",
       "      <td>(+/-)-테트라하이드로퍼퓨릴-(R)-2-[4-(6-클로로퀴노살린-2-일옥시)페닐옥...</td>\n",
       "    </tr>\n",
       "    <tr>\n",
       "      <th>23542</th>\n",
       "      <td>기타 성분</td>\n",
       "      <td>'기타 성분'은 화장품 성분표에서 주성분 외에 포함된 미량 성분을 의미합니다. 이러...</td>\n",
       "    </tr>\n",
       "    <tr>\n",
       "      <th>23543</th>\n",
       "      <td>눈</td>\n",
       "      <td>\"눈\"은 화장품 성분이 아니며, 얼굴 기관 중 하나로 여러 화장품에서 효과를 높이기...</td>\n",
       "    </tr>\n",
       "  </tbody>\n",
       "</table>\n",
       "<p>23544 rows × 2 columns</p>\n",
       "</div>"
      ],
      "text/plain": [
       "                                              ingredient  \\\n",
       "0                                      힙시지구스 울마리우스균사체추출물   \n",
       "1                                         힙네아 무스키포르미스추출물   \n",
       "2                                          힙티스 수아베올렌스씨오일   \n",
       "3                                                 히푸릭애씨드   \n",
       "4                                       히오스신, 그 염류 및 유도체   \n",
       "...                                                  ...   \n",
       "23539  (1,3,5)-트라이아진-2,4-비스-{[4-(2-에틸-헥실옥시)-2-하이드록시]-...   \n",
       "23540                                        (1)알칼리설파이드류   \n",
       "23541  (+/-)-테트라하이드로퍼푸릴-(R)-2-[4-(6-클로로퀴노살린-2-일옥시)페닐옥...   \n",
       "23542                                              기타 성분   \n",
       "23543                                                  눈   \n",
       "\n",
       "                                             description  \n",
       "0      힙시지구스 울마리우스균사체추출물은 피부 보습과 진정을 돕는 성분으로, 항산화 효과가...  \n",
       "1      힙네아 무스키포르미스 추출물은 홍조류에서 추출된 성분으로, 보습 및 피부 진정 효과...  \n",
       "2      히프티스 수아베올렌스씨오일은 피부 보습과 진정에 도움을 줄 수 있는 식물성 오일입니...  \n",
       "3      히푸릭애씨드(Hippuric Acid)는 주로 항산화 및 항균 작용을 가지고 있어 ...  \n",
       "4      히오스신, 그 염류 및 유도체는 일반적으로 진정 및 항콜린 작용을 하는 화합물입니다...  \n",
       "...                                                  ...  \n",
       "23539  (1,3,5)-트라이아진 유도체인 이 성분은 자외선 차단제로 사용됩니다. 이 성분은...  \n",
       "23540  (1) 알칼리설파이드류는 주로 헤어 리무버 제품에서 모발을 제거하는 데 사용됩니다....  \n",
       "23541  (+/-)-테트라하이드로퍼퓨릴-(R)-2-[4-(6-클로로퀴노살린-2-일옥시)페닐옥...  \n",
       "23542  '기타 성분'은 화장품 성분표에서 주성분 외에 포함된 미량 성분을 의미합니다. 이러...  \n",
       "23543  \"눈\"은 화장품 성분이 아니며, 얼굴 기관 중 하나로 여러 화장품에서 효과를 높이기...  \n",
       "\n",
       "[23544 rows x 2 columns]"
      ]
     },
     "execution_count": 21,
     "metadata": {},
     "output_type": "execute_result"
    }
   ],
   "source": [
    "df = df.dropna()\n",
    "df"
   ]
  },
  {
   "cell_type": "code",
   "execution_count": 22,
   "id": "109fcd44",
   "metadata": {},
   "outputs": [
    {
     "data": {
      "text/plain": [
       "1982"
      ]
     },
     "execution_count": 22,
     "metadata": {},
     "output_type": "execute_result"
    }
   ],
   "source": [
    "25526 - 23544 "
   ]
  },
  {
   "cell_type": "markdown",
   "id": "b6f3c508",
   "metadata": {},
   "source": [
    "# df to csv"
   ]
  },
  {
   "cell_type": "code",
   "execution_count": 23,
   "id": "126ed930",
   "metadata": {},
   "outputs": [],
   "source": [
    "df.to_csv('cleaned_ingredients.csv', index=False, encoding='utf-8')"
   ]
  }
 ],
 "metadata": {
  "kernelspec": {
   "display_name": "pystudy_test",
   "language": "python",
   "name": "python3"
  },
  "language_info": {
   "codemirror_mode": {
    "name": "ipython",
    "version": 3
   },
   "file_extension": ".py",
   "mimetype": "text/x-python",
   "name": "python",
   "nbconvert_exporter": "python",
   "pygments_lexer": "ipython3",
   "version": "3.12.9"
  }
 },
 "nbformat": 4,
 "nbformat_minor": 5
}

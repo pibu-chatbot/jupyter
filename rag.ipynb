{
 "cells": [
  {
   "cell_type": "code",
   "execution_count": 206,
   "id": "c2751366",
   "metadata": {},
   "outputs": [
    {
     "name": "stdout",
     "output_type": "stream",
     "text": [
      "Requirement already satisfied: langchain-huggingface in c:\\users\\playdata\\appdata\\local\\anaconda3\\envs\\pibu\\lib\\site-packages (0.2.0)\n",
      "Requirement already satisfied: chromadb in c:\\users\\playdata\\appdata\\local\\anaconda3\\envs\\pibu\\lib\\site-packages (0.6.3)\n",
      "Requirement already satisfied: pandas in c:\\users\\playdata\\appdata\\local\\anaconda3\\envs\\pibu\\lib\\site-packages (2.2.3)\n",
      "Requirement already satisfied: langchain in c:\\users\\playdata\\appdata\\local\\anaconda3\\envs\\pibu\\lib\\site-packages (0.3.25)\n",
      "Requirement already satisfied: sentence-transformers in c:\\users\\playdata\\appdata\\local\\anaconda3\\envs\\pibu\\lib\\site-packages (4.1.0)\n",
      "Requirement already satisfied: langchain-core<1.0.0,>=0.3.59 in c:\\users\\playdata\\appdata\\local\\anaconda3\\envs\\pibu\\lib\\site-packages (from langchain-huggingface) (0.3.59)\n",
      "Requirement already satisfied: tokenizers>=0.19.1 in c:\\users\\playdata\\appdata\\local\\anaconda3\\envs\\pibu\\lib\\site-packages (from langchain-huggingface) (0.21.1)\n",
      "Requirement already satisfied: transformers>=4.39.0 in c:\\users\\playdata\\appdata\\local\\anaconda3\\envs\\pibu\\lib\\site-packages (from langchain-huggingface) (4.51.3)\n",
      "Requirement already satisfied: huggingface-hub>=0.30.2 in c:\\users\\playdata\\appdata\\local\\anaconda3\\envs\\pibu\\lib\\site-packages (from langchain-huggingface) (0.31.1)\n",
      "Requirement already satisfied: langsmith<0.4,>=0.1.125 in c:\\users\\playdata\\appdata\\local\\anaconda3\\envs\\pibu\\lib\\site-packages (from langchain-core<1.0.0,>=0.3.59->langchain-huggingface) (0.3.42)\n",
      "Requirement already satisfied: tenacity!=8.4.0,<10.0.0,>=8.1.0 in c:\\users\\playdata\\appdata\\local\\anaconda3\\envs\\pibu\\lib\\site-packages (from langchain-core<1.0.0,>=0.3.59->langchain-huggingface) (9.1.2)\n",
      "Requirement already satisfied: jsonpatch<2.0,>=1.33 in c:\\users\\playdata\\appdata\\local\\anaconda3\\envs\\pibu\\lib\\site-packages (from langchain-core<1.0.0,>=0.3.59->langchain-huggingface) (1.33)\n",
      "Requirement already satisfied: PyYAML>=5.3 in c:\\users\\playdata\\appdata\\local\\anaconda3\\envs\\pibu\\lib\\site-packages (from langchain-core<1.0.0,>=0.3.59->langchain-huggingface) (6.0.2)\n",
      "Requirement already satisfied: packaging<25,>=23.2 in c:\\users\\playdata\\appdata\\local\\anaconda3\\envs\\pibu\\lib\\site-packages (from langchain-core<1.0.0,>=0.3.59->langchain-huggingface) (24.2)\n",
      "Requirement already satisfied: typing-extensions>=4.7 in c:\\users\\playdata\\appdata\\local\\anaconda3\\envs\\pibu\\lib\\site-packages (from langchain-core<1.0.0,>=0.3.59->langchain-huggingface) (4.13.2)\n",
      "Requirement already satisfied: pydantic<3.0.0,>=2.5.2 in c:\\users\\playdata\\appdata\\local\\anaconda3\\envs\\pibu\\lib\\site-packages (from langchain-core<1.0.0,>=0.3.59->langchain-huggingface) (2.11.4)\n",
      "Requirement already satisfied: jsonpointer>=1.9 in c:\\users\\playdata\\appdata\\local\\anaconda3\\envs\\pibu\\lib\\site-packages (from jsonpatch<2.0,>=1.33->langchain-core<1.0.0,>=0.3.59->langchain-huggingface) (3.0.0)\n",
      "Requirement already satisfied: httpx<1,>=0.23.0 in c:\\users\\playdata\\appdata\\local\\anaconda3\\envs\\pibu\\lib\\site-packages (from langsmith<0.4,>=0.1.125->langchain-core<1.0.0,>=0.3.59->langchain-huggingface) (0.28.1)\n",
      "Requirement already satisfied: orjson<4.0.0,>=3.9.14 in c:\\users\\playdata\\appdata\\local\\anaconda3\\envs\\pibu\\lib\\site-packages (from langsmith<0.4,>=0.1.125->langchain-core<1.0.0,>=0.3.59->langchain-huggingface) (3.10.18)\n",
      "Requirement already satisfied: requests<3,>=2 in c:\\users\\playdata\\appdata\\local\\anaconda3\\envs\\pibu\\lib\\site-packages (from langsmith<0.4,>=0.1.125->langchain-core<1.0.0,>=0.3.59->langchain-huggingface) (2.32.3)\n",
      "Requirement already satisfied: requests-toolbelt<2.0.0,>=1.0.0 in c:\\users\\playdata\\appdata\\local\\anaconda3\\envs\\pibu\\lib\\site-packages (from langsmith<0.4,>=0.1.125->langchain-core<1.0.0,>=0.3.59->langchain-huggingface) (1.0.0)\n",
      "Requirement already satisfied: zstandard<0.24.0,>=0.23.0 in c:\\users\\playdata\\appdata\\local\\anaconda3\\envs\\pibu\\lib\\site-packages (from langsmith<0.4,>=0.1.125->langchain-core<1.0.0,>=0.3.59->langchain-huggingface) (0.23.0)\n",
      "Requirement already satisfied: anyio in c:\\users\\playdata\\appdata\\local\\anaconda3\\envs\\pibu\\lib\\site-packages (from httpx<1,>=0.23.0->langsmith<0.4,>=0.1.125->langchain-core<1.0.0,>=0.3.59->langchain-huggingface) (4.9.0)\n",
      "Requirement already satisfied: certifi in c:\\users\\playdata\\appdata\\local\\anaconda3\\envs\\pibu\\lib\\site-packages (from httpx<1,>=0.23.0->langsmith<0.4,>=0.1.125->langchain-core<1.0.0,>=0.3.59->langchain-huggingface) (2025.4.26)\n",
      "Requirement already satisfied: httpcore==1.* in c:\\users\\playdata\\appdata\\local\\anaconda3\\envs\\pibu\\lib\\site-packages (from httpx<1,>=0.23.0->langsmith<0.4,>=0.1.125->langchain-core<1.0.0,>=0.3.59->langchain-huggingface) (1.0.9)\n",
      "Requirement already satisfied: idna in c:\\users\\playdata\\appdata\\local\\anaconda3\\envs\\pibu\\lib\\site-packages (from httpx<1,>=0.23.0->langsmith<0.4,>=0.1.125->langchain-core<1.0.0,>=0.3.59->langchain-huggingface) (3.10)\n",
      "Requirement already satisfied: h11>=0.16 in c:\\users\\playdata\\appdata\\local\\anaconda3\\envs\\pibu\\lib\\site-packages (from httpcore==1.*->httpx<1,>=0.23.0->langsmith<0.4,>=0.1.125->langchain-core<1.0.0,>=0.3.59->langchain-huggingface) (0.16.0)\n",
      "Requirement already satisfied: annotated-types>=0.6.0 in c:\\users\\playdata\\appdata\\local\\anaconda3\\envs\\pibu\\lib\\site-packages (from pydantic<3.0.0,>=2.5.2->langchain-core<1.0.0,>=0.3.59->langchain-huggingface) (0.7.0)\n",
      "Requirement already satisfied: pydantic-core==2.33.2 in c:\\users\\playdata\\appdata\\local\\anaconda3\\envs\\pibu\\lib\\site-packages (from pydantic<3.0.0,>=2.5.2->langchain-core<1.0.0,>=0.3.59->langchain-huggingface) (2.33.2)\n",
      "Requirement already satisfied: typing-inspection>=0.4.0 in c:\\users\\playdata\\appdata\\local\\anaconda3\\envs\\pibu\\lib\\site-packages (from pydantic<3.0.0,>=2.5.2->langchain-core<1.0.0,>=0.3.59->langchain-huggingface) (0.4.0)\n",
      "Requirement already satisfied: charset-normalizer<4,>=2 in c:\\users\\playdata\\appdata\\local\\anaconda3\\envs\\pibu\\lib\\site-packages (from requests<3,>=2->langsmith<0.4,>=0.1.125->langchain-core<1.0.0,>=0.3.59->langchain-huggingface) (3.4.2)\n",
      "Requirement already satisfied: urllib3<3,>=1.21.1 in c:\\users\\playdata\\appdata\\local\\anaconda3\\envs\\pibu\\lib\\site-packages (from requests<3,>=2->langsmith<0.4,>=0.1.125->langchain-core<1.0.0,>=0.3.59->langchain-huggingface) (2.4.0)\n",
      "Requirement already satisfied: build>=1.0.3 in c:\\users\\playdata\\appdata\\local\\anaconda3\\envs\\pibu\\lib\\site-packages (from chromadb) (1.2.2.post1)\n",
      "Requirement already satisfied: chroma-hnswlib==0.7.6 in c:\\users\\playdata\\appdata\\local\\anaconda3\\envs\\pibu\\lib\\site-packages (from chromadb) (0.7.6)\n",
      "Requirement already satisfied: fastapi>=0.95.2 in c:\\users\\playdata\\appdata\\local\\anaconda3\\envs\\pibu\\lib\\site-packages (from chromadb) (0.115.9)\n",
      "Requirement already satisfied: uvicorn>=0.18.3 in c:\\users\\playdata\\appdata\\local\\anaconda3\\envs\\pibu\\lib\\site-packages (from uvicorn[standard]>=0.18.3->chromadb) (0.34.2)\n",
      "Requirement already satisfied: numpy>=1.22.5 in c:\\users\\playdata\\appdata\\local\\anaconda3\\envs\\pibu\\lib\\site-packages (from chromadb) (2.0.2)\n",
      "Requirement already satisfied: posthog>=2.4.0 in c:\\users\\playdata\\appdata\\local\\anaconda3\\envs\\pibu\\lib\\site-packages (from chromadb) (4.0.1)\n",
      "Requirement already satisfied: onnxruntime>=1.14.1 in c:\\users\\playdata\\appdata\\local\\anaconda3\\envs\\pibu\\lib\\site-packages (from chromadb) (1.19.2)\n",
      "Requirement already satisfied: opentelemetry-api>=1.2.0 in c:\\users\\playdata\\appdata\\local\\anaconda3\\envs\\pibu\\lib\\site-packages (from chromadb) (1.33.0)\n",
      "Requirement already satisfied: opentelemetry-exporter-otlp-proto-grpc>=1.2.0 in c:\\users\\playdata\\appdata\\local\\anaconda3\\envs\\pibu\\lib\\site-packages (from chromadb) (1.33.0)\n",
      "Requirement already satisfied: opentelemetry-instrumentation-fastapi>=0.41b0 in c:\\users\\playdata\\appdata\\local\\anaconda3\\envs\\pibu\\lib\\site-packages (from chromadb) (0.54b0)\n",
      "Requirement already satisfied: opentelemetry-sdk>=1.2.0 in c:\\users\\playdata\\appdata\\local\\anaconda3\\envs\\pibu\\lib\\site-packages (from chromadb) (1.33.0)\n",
      "Requirement already satisfied: pypika>=0.48.9 in c:\\users\\playdata\\appdata\\local\\anaconda3\\envs\\pibu\\lib\\site-packages (from chromadb) (0.48.9)\n",
      "Requirement already satisfied: tqdm>=4.65.0 in c:\\users\\playdata\\appdata\\local\\anaconda3\\envs\\pibu\\lib\\site-packages (from chromadb) (4.67.1)\n",
      "Requirement already satisfied: overrides>=7.3.1 in c:\\users\\playdata\\appdata\\local\\anaconda3\\envs\\pibu\\lib\\site-packages (from chromadb) (7.7.0)\n",
      "Requirement already satisfied: importlib-resources in c:\\users\\playdata\\appdata\\local\\anaconda3\\envs\\pibu\\lib\\site-packages (from chromadb) (6.5.2)\n",
      "Requirement already satisfied: grpcio>=1.58.0 in c:\\users\\playdata\\appdata\\local\\anaconda3\\envs\\pibu\\lib\\site-packages (from chromadb) (1.71.0)\n",
      "Requirement already satisfied: bcrypt>=4.0.1 in c:\\users\\playdata\\appdata\\local\\anaconda3\\envs\\pibu\\lib\\site-packages (from chromadb) (4.3.0)\n",
      "Requirement already satisfied: typer>=0.9.0 in c:\\users\\playdata\\appdata\\local\\anaconda3\\envs\\pibu\\lib\\site-packages (from chromadb) (0.15.3)\n",
      "Requirement already satisfied: kubernetes>=28.1.0 in c:\\users\\playdata\\appdata\\local\\anaconda3\\envs\\pibu\\lib\\site-packages (from chromadb) (32.0.1)\n",
      "Requirement already satisfied: mmh3>=4.0.1 in c:\\users\\playdata\\appdata\\local\\anaconda3\\envs\\pibu\\lib\\site-packages (from chromadb) (5.1.0)\n",
      "Requirement already satisfied: rich>=10.11.0 in c:\\users\\playdata\\appdata\\local\\anaconda3\\envs\\pibu\\lib\\site-packages (from chromadb) (14.0.0)\n",
      "Requirement already satisfied: python-dateutil>=2.8.2 in c:\\users\\playdata\\appdata\\local\\anaconda3\\envs\\pibu\\lib\\site-packages (from pandas) (2.9.0.post0)\n",
      "Requirement already satisfied: pytz>=2020.1 in c:\\users\\playdata\\appdata\\local\\anaconda3\\envs\\pibu\\lib\\site-packages (from pandas) (2025.2)\n",
      "Requirement already satisfied: tzdata>=2022.7 in c:\\users\\playdata\\appdata\\local\\anaconda3\\envs\\pibu\\lib\\site-packages (from pandas) (2025.2)\n",
      "Requirement already satisfied: langchain-text-splitters<1.0.0,>=0.3.8 in c:\\users\\playdata\\appdata\\local\\anaconda3\\envs\\pibu\\lib\\site-packages (from langchain) (0.3.8)\n",
      "Requirement already satisfied: SQLAlchemy<3,>=1.4 in c:\\users\\playdata\\appdata\\local\\anaconda3\\envs\\pibu\\lib\\site-packages (from langchain) (2.0.40)\n",
      "Requirement already satisfied: async-timeout<5.0.0,>=4.0.0 in c:\\users\\playdata\\appdata\\local\\anaconda3\\envs\\pibu\\lib\\site-packages (from langchain) (4.0.3)\n",
      "Requirement already satisfied: greenlet>=1 in c:\\users\\playdata\\appdata\\local\\anaconda3\\envs\\pibu\\lib\\site-packages (from SQLAlchemy<3,>=1.4->langchain) (3.2.2)\n",
      "Requirement already satisfied: torch>=1.11.0 in c:\\users\\playdata\\appdata\\local\\anaconda3\\envs\\pibu\\lib\\site-packages (from sentence-transformers) (2.7.0)\n",
      "Requirement already satisfied: scikit-learn in c:\\users\\playdata\\appdata\\local\\anaconda3\\envs\\pibu\\lib\\site-packages (from sentence-transformers) (1.6.1)\n",
      "Requirement already satisfied: scipy in c:\\users\\playdata\\appdata\\local\\anaconda3\\envs\\pibu\\lib\\site-packages (from sentence-transformers) (1.13.1)\n",
      "Requirement already satisfied: Pillow in c:\\users\\playdata\\appdata\\local\\anaconda3\\envs\\pibu\\lib\\site-packages (from sentence-transformers) (11.2.1)\n",
      "Requirement already satisfied: filelock in c:\\users\\playdata\\appdata\\local\\anaconda3\\envs\\pibu\\lib\\site-packages (from transformers>=4.39.0->langchain-huggingface) (3.18.0)\n",
      "Requirement already satisfied: regex!=2019.12.17 in c:\\users\\playdata\\appdata\\local\\anaconda3\\envs\\pibu\\lib\\site-packages (from transformers>=4.39.0->langchain-huggingface) (2024.11.6)\n",
      "Requirement already satisfied: safetensors>=0.4.3 in c:\\users\\playdata\\appdata\\local\\anaconda3\\envs\\pibu\\lib\\site-packages (from transformers>=4.39.0->langchain-huggingface) (0.5.3)\n",
      "Requirement already satisfied: fsspec>=2023.5.0 in c:\\users\\playdata\\appdata\\local\\anaconda3\\envs\\pibu\\lib\\site-packages (from huggingface-hub>=0.30.2->langchain-huggingface) (2025.3.2)\n",
      "Requirement already satisfied: pyproject_hooks in c:\\users\\playdata\\appdata\\local\\anaconda3\\envs\\pibu\\lib\\site-packages (from build>=1.0.3->chromadb) (1.2.0)\n",
      "Requirement already satisfied: colorama in c:\\users\\playdata\\appdata\\local\\anaconda3\\envs\\pibu\\lib\\site-packages (from build>=1.0.3->chromadb) (0.4.6)\n",
      "Requirement already satisfied: importlib-metadata>=4.6 in c:\\users\\playdata\\appdata\\local\\anaconda3\\envs\\pibu\\lib\\site-packages (from build>=1.0.3->chromadb) (8.6.1)\n",
      "Requirement already satisfied: tomli>=1.1.0 in c:\\users\\playdata\\appdata\\local\\anaconda3\\envs\\pibu\\lib\\site-packages (from build>=1.0.3->chromadb) (2.2.1)\n",
      "Requirement already satisfied: starlette<0.46.0,>=0.40.0 in c:\\users\\playdata\\appdata\\local\\anaconda3\\envs\\pibu\\lib\\site-packages (from fastapi>=0.95.2->chromadb) (0.45.3)\n",
      "Requirement already satisfied: exceptiongroup>=1.0.2 in c:\\users\\playdata\\appdata\\local\\anaconda3\\envs\\pibu\\lib\\site-packages (from anyio->httpx<1,>=0.23.0->langsmith<0.4,>=0.1.125->langchain-core<1.0.0,>=0.3.59->langchain-huggingface) (1.3.0)\n",
      "Requirement already satisfied: sniffio>=1.1 in c:\\users\\playdata\\appdata\\local\\anaconda3\\envs\\pibu\\lib\\site-packages (from anyio->httpx<1,>=0.23.0->langsmith<0.4,>=0.1.125->langchain-core<1.0.0,>=0.3.59->langchain-huggingface) (1.3.1)\n",
      "Requirement already satisfied: zipp>=3.20 in c:\\users\\playdata\\appdata\\local\\anaconda3\\envs\\pibu\\lib\\site-packages (from importlib-metadata>=4.6->build>=1.0.3->chromadb) (3.21.0)\n",
      "Requirement already satisfied: six>=1.9.0 in c:\\users\\playdata\\appdata\\local\\anaconda3\\envs\\pibu\\lib\\site-packages (from kubernetes>=28.1.0->chromadb) (1.17.0)\n",
      "Requirement already satisfied: google-auth>=1.0.1 in c:\\users\\playdata\\appdata\\local\\anaconda3\\envs\\pibu\\lib\\site-packages (from kubernetes>=28.1.0->chromadb) (2.40.1)\n",
      "Requirement already satisfied: websocket-client!=0.40.0,!=0.41.*,!=0.42.*,>=0.32.0 in c:\\users\\playdata\\appdata\\local\\anaconda3\\envs\\pibu\\lib\\site-packages (from kubernetes>=28.1.0->chromadb) (1.8.0)\n",
      "Requirement already satisfied: requests-oauthlib in c:\\users\\playdata\\appdata\\local\\anaconda3\\envs\\pibu\\lib\\site-packages (from kubernetes>=28.1.0->chromadb) (2.0.0)\n",
      "Requirement already satisfied: oauthlib>=3.2.2 in c:\\users\\playdata\\appdata\\local\\anaconda3\\envs\\pibu\\lib\\site-packages (from kubernetes>=28.1.0->chromadb) (3.2.2)\n",
      "Requirement already satisfied: durationpy>=0.7 in c:\\users\\playdata\\appdata\\local\\anaconda3\\envs\\pibu\\lib\\site-packages (from kubernetes>=28.1.0->chromadb) (0.9)\n",
      "Requirement already satisfied: cachetools<6.0,>=2.0.0 in c:\\users\\playdata\\appdata\\local\\anaconda3\\envs\\pibu\\lib\\site-packages (from google-auth>=1.0.1->kubernetes>=28.1.0->chromadb) (5.5.2)\n",
      "Requirement already satisfied: pyasn1-modules>=0.2.1 in c:\\users\\playdata\\appdata\\local\\anaconda3\\envs\\pibu\\lib\\site-packages (from google-auth>=1.0.1->kubernetes>=28.1.0->chromadb) (0.4.2)\n",
      "Requirement already satisfied: rsa<5,>=3.1.4 in c:\\users\\playdata\\appdata\\local\\anaconda3\\envs\\pibu\\lib\\site-packages (from google-auth>=1.0.1->kubernetes>=28.1.0->chromadb) (4.9.1)\n",
      "Requirement already satisfied: pyasn1>=0.1.3 in c:\\users\\playdata\\appdata\\local\\anaconda3\\envs\\pibu\\lib\\site-packages (from rsa<5,>=3.1.4->google-auth>=1.0.1->kubernetes>=28.1.0->chromadb) (0.6.1)\n",
      "Requirement already satisfied: coloredlogs in c:\\users\\playdata\\appdata\\local\\anaconda3\\envs\\pibu\\lib\\site-packages (from onnxruntime>=1.14.1->chromadb) (15.0.1)\n",
      "Requirement already satisfied: flatbuffers in c:\\users\\playdata\\appdata\\local\\anaconda3\\envs\\pibu\\lib\\site-packages (from onnxruntime>=1.14.1->chromadb) (25.2.10)\n",
      "Requirement already satisfied: protobuf in c:\\users\\playdata\\appdata\\local\\anaconda3\\envs\\pibu\\lib\\site-packages (from onnxruntime>=1.14.1->chromadb) (5.29.4)\n",
      "Requirement already satisfied: sympy in c:\\users\\playdata\\appdata\\local\\anaconda3\\envs\\pibu\\lib\\site-packages (from onnxruntime>=1.14.1->chromadb) (1.14.0)\n",
      "Requirement already satisfied: deprecated>=1.2.6 in c:\\users\\playdata\\appdata\\local\\anaconda3\\envs\\pibu\\lib\\site-packages (from opentelemetry-api>=1.2.0->chromadb) (1.2.18)\n",
      "Requirement already satisfied: wrapt<2,>=1.10 in c:\\users\\playdata\\appdata\\local\\anaconda3\\envs\\pibu\\lib\\site-packages (from deprecated>=1.2.6->opentelemetry-api>=1.2.0->chromadb) (1.17.2)\n",
      "Requirement already satisfied: googleapis-common-protos~=1.52 in c:\\users\\playdata\\appdata\\local\\anaconda3\\envs\\pibu\\lib\\site-packages (from opentelemetry-exporter-otlp-proto-grpc>=1.2.0->chromadb) (1.70.0)\n",
      "Requirement already satisfied: opentelemetry-exporter-otlp-proto-common==1.33.0 in c:\\users\\playdata\\appdata\\local\\anaconda3\\envs\\pibu\\lib\\site-packages (from opentelemetry-exporter-otlp-proto-grpc>=1.2.0->chromadb) (1.33.0)\n",
      "Requirement already satisfied: opentelemetry-proto==1.33.0 in c:\\users\\playdata\\appdata\\local\\anaconda3\\envs\\pibu\\lib\\site-packages (from opentelemetry-exporter-otlp-proto-grpc>=1.2.0->chromadb) (1.33.0)\n",
      "Requirement already satisfied: opentelemetry-semantic-conventions==0.54b0 in c:\\users\\playdata\\appdata\\local\\anaconda3\\envs\\pibu\\lib\\site-packages (from opentelemetry-sdk>=1.2.0->chromadb) (0.54b0)\n",
      "Requirement already satisfied: opentelemetry-instrumentation-asgi==0.54b0 in c:\\users\\playdata\\appdata\\local\\anaconda3\\envs\\pibu\\lib\\site-packages (from opentelemetry-instrumentation-fastapi>=0.41b0->chromadb) (0.54b0)\n",
      "Requirement already satisfied: opentelemetry-instrumentation==0.54b0 in c:\\users\\playdata\\appdata\\local\\anaconda3\\envs\\pibu\\lib\\site-packages (from opentelemetry-instrumentation-fastapi>=0.41b0->chromadb) (0.54b0)\n",
      "Requirement already satisfied: opentelemetry-util-http==0.54b0 in c:\\users\\playdata\\appdata\\local\\anaconda3\\envs\\pibu\\lib\\site-packages (from opentelemetry-instrumentation-fastapi>=0.41b0->chromadb) (0.54b0)\n",
      "Requirement already satisfied: asgiref~=3.0 in c:\\users\\playdata\\appdata\\local\\anaconda3\\envs\\pibu\\lib\\site-packages (from opentelemetry-instrumentation-asgi==0.54b0->opentelemetry-instrumentation-fastapi>=0.41b0->chromadb) (3.8.1)\n",
      "Requirement already satisfied: backoff>=1.10.0 in c:\\users\\playdata\\appdata\\local\\anaconda3\\envs\\pibu\\lib\\site-packages (from posthog>=2.4.0->chromadb) (2.2.1)\n",
      "Requirement already satisfied: distro>=1.5.0 in c:\\users\\playdata\\appdata\\local\\anaconda3\\envs\\pibu\\lib\\site-packages (from posthog>=2.4.0->chromadb) (1.9.0)\n",
      "Requirement already satisfied: markdown-it-py>=2.2.0 in c:\\users\\playdata\\appdata\\local\\anaconda3\\envs\\pibu\\lib\\site-packages (from rich>=10.11.0->chromadb) (3.0.0)\n",
      "Requirement already satisfied: pygments<3.0.0,>=2.13.0 in c:\\users\\playdata\\appdata\\local\\anaconda3\\envs\\pibu\\lib\\site-packages (from rich>=10.11.0->chromadb) (2.19.1)\n",
      "Requirement already satisfied: mdurl~=0.1 in c:\\users\\playdata\\appdata\\local\\anaconda3\\envs\\pibu\\lib\\site-packages (from markdown-it-py>=2.2.0->rich>=10.11.0->chromadb) (0.1.2)\n",
      "Requirement already satisfied: networkx in c:\\users\\playdata\\appdata\\local\\anaconda3\\envs\\pibu\\lib\\site-packages (from torch>=1.11.0->sentence-transformers) (3.2.1)\n",
      "Requirement already satisfied: jinja2 in c:\\users\\playdata\\appdata\\local\\anaconda3\\envs\\pibu\\lib\\site-packages (from torch>=1.11.0->sentence-transformers) (3.1.6)\n",
      "Requirement already satisfied: mpmath<1.4,>=1.1.0 in c:\\users\\playdata\\appdata\\local\\anaconda3\\envs\\pibu\\lib\\site-packages (from sympy->onnxruntime>=1.14.1->chromadb) (1.3.0)\n",
      "Requirement already satisfied: click>=8.0.0 in c:\\users\\playdata\\appdata\\local\\anaconda3\\envs\\pibu\\lib\\site-packages (from typer>=0.9.0->chromadb) (8.1.8)\n",
      "Requirement already satisfied: shellingham>=1.3.0 in c:\\users\\playdata\\appdata\\local\\anaconda3\\envs\\pibu\\lib\\site-packages (from typer>=0.9.0->chromadb) (1.5.4)\n",
      "Requirement already satisfied: httptools>=0.6.3 in c:\\users\\playdata\\appdata\\local\\anaconda3\\envs\\pibu\\lib\\site-packages (from uvicorn[standard]>=0.18.3->chromadb) (0.6.4)\n",
      "Requirement already satisfied: python-dotenv>=0.13 in c:\\users\\playdata\\appdata\\local\\anaconda3\\envs\\pibu\\lib\\site-packages (from uvicorn[standard]>=0.18.3->chromadb) (1.1.0)\n",
      "Requirement already satisfied: watchfiles>=0.13 in c:\\users\\playdata\\appdata\\local\\anaconda3\\envs\\pibu\\lib\\site-packages (from uvicorn[standard]>=0.18.3->chromadb) (1.0.5)\n",
      "Requirement already satisfied: websockets>=10.4 in c:\\users\\playdata\\appdata\\local\\anaconda3\\envs\\pibu\\lib\\site-packages (from uvicorn[standard]>=0.18.3->chromadb) (15.0.1)\n",
      "Requirement already satisfied: humanfriendly>=9.1 in c:\\users\\playdata\\appdata\\local\\anaconda3\\envs\\pibu\\lib\\site-packages (from coloredlogs->onnxruntime>=1.14.1->chromadb) (10.0)\n",
      "Requirement already satisfied: pyreadline3 in c:\\users\\playdata\\appdata\\local\\anaconda3\\envs\\pibu\\lib\\site-packages (from humanfriendly>=9.1->coloredlogs->onnxruntime>=1.14.1->chromadb) (3.5.4)\n",
      "Requirement already satisfied: MarkupSafe>=2.0 in c:\\users\\playdata\\appdata\\local\\anaconda3\\envs\\pibu\\lib\\site-packages (from jinja2->torch>=1.11.0->sentence-transformers) (3.0.2)\n",
      "Requirement already satisfied: joblib>=1.2.0 in c:\\users\\playdata\\appdata\\local\\anaconda3\\envs\\pibu\\lib\\site-packages (from scikit-learn->sentence-transformers) (1.5.0)\n",
      "Requirement already satisfied: threadpoolctl>=3.1.0 in c:\\users\\playdata\\appdata\\local\\anaconda3\\envs\\pibu\\lib\\site-packages (from scikit-learn->sentence-transformers) (3.6.0)\n"
     ]
    }
   ],
   "source": [
    "!pip install langchain-huggingface chromadb pandas langchain sentence-transformers"
   ]
  },
  {
   "cell_type": "code",
   "execution_count": 207,
   "id": "fffe0f32",
   "metadata": {},
   "outputs": [],
   "source": [
    "import dotenv\n",
    "import openai\n",
    "from langchain_openai import ChatOpenAI\n",
    "from langchain_huggingface.embeddings import HuggingFaceEmbeddings\n",
    "from langchain.chains import RetrievalQA\n",
    "from langchain_core.prompts import ChatPromptTemplate\n",
    "from langchain_chroma import Chroma"
   ]
  },
  {
   "cell_type": "code",
   "execution_count": 208,
   "id": "a4ff7859",
   "metadata": {},
   "outputs": [
    {
     "data": {
      "text/plain": [
       "True"
      ]
     },
     "execution_count": 208,
     "metadata": {},
     "output_type": "execute_result"
    }
   ],
   "source": [
    "from dotenv import load_dotenv\n",
    "load_dotenv()"
   ]
  },
  {
   "cell_type": "code",
   "execution_count": 209,
   "id": "a6f8584e",
   "metadata": {},
   "outputs": [],
   "source": [
    "import os\n",
    "HF_TOKEN=os.getenv('HF_TOKEN')\n",
    "openai_api_key = os.getenv('OPENAI_API_KEY')"
   ]
  },
  {
   "cell_type": "code",
   "execution_count": 210,
   "id": "5d82af25",
   "metadata": {},
   "outputs": [],
   "source": [
    "embedding_model = HuggingFaceEmbeddings(\n",
    "    model_name=\"sentence-transformers/all-MiniLM-L6-v2\"\n",
    ")\n"
   ]
  },
  {
   "cell_type": "code",
   "execution_count": 211,
   "id": "650d0e91",
   "metadata": {},
   "outputs": [],
   "source": [
    "llm = ChatOpenAI(model_name=\"gpt-4o\", temperature=0, openai_api_key=openai_api_key)\n"
   ]
  },
  {
   "cell_type": "code",
   "execution_count": 212,
   "id": "90774842",
   "metadata": {},
   "outputs": [],
   "source": [
    "# 3. ChromaDB 로드\n",
    "vectordb = Chroma(\n",
    "\t\tpersist_directory=\"./chroma_db\", \n",
    "\t\tembedding_function=embedding_model\n",
    ")"
   ]
  },
  {
   "cell_type": "code",
   "execution_count": 213,
   "id": "7387650e",
   "metadata": {},
   "outputs": [],
   "source": [
    "from langchain_core.prompts import ChatPromptTemplate\n",
    "\n",
    "template_with_examples = \"\"\"\n",
    "당신은 화장품 전문가입니다. 아래 예시처럼 질문에 답변하세요.\n",
    "\n",
    "[규칙]\n",
    "- 반드시 type이 'cosmetic'인 문서에서 리뷰(reviews)를 참고하여, 질문 의도에 적합한 제품명(product_name)을 추천합니다.\n",
    "- 무조건 문서에 포함된 제품명이어야 합니다.\n",
    "- 리뷰에서 효과, 만족도, 특징이 잘 드러나는 제품을 우선 추천합니다.\n",
    "- 추천한 이유를 리뷰에서 요약하여 무조건 설명합니다.\n",
    "\n",
    "[2. 성분 정보 추가]\n",
    "- 추천 제품의 주요 성분을 확인한 후, 해당 성분이 어떤 효능을 가지는지 자연스럽게 설명에 녹여서 전달합니다.\n",
    "- 성분 설명은 type이 'ingredient'인 문서의 정보를 바탕으로 하되, '어디 문서에 따르면' 같은 표현은 사용하지 않습니다.\n",
    "\n",
    "[3. 답변 스타일]\n",
    "- 아래 예시처럼 자세하고, 사용자 친화적인 문장으로 작성합니다.\n",
    "- 모든 답변은 실제 문서에 기반해야 하며, 존재하지 않는 제품이나 성분 정보를 만들어내지 않습니다.\n",
    "\n",
    "[예시1]\n",
    "질문 : 내가 넘버즈인 글루타치온 흔적 앰플을 가지고 있는데 이거랑 비타민이 함량된 세럼을 같이 써도 돼?\n",
    "답변:  \n",
    "넘버즈인 글루타치온 흔적 앰플과 비타민이 함량된 세럼을 함께 사용하는 것은 일반적으로 문제가 없지만, 두 제품의 주요 성분이 서로 충돌할 가능성이 있으므로 주의가 필요합니다. 특히 비타민 C와 같은 성분은 다른 활성 성분과 함께 사용 시 자극을 유발할 수 있으니, 사용 전 패치 테스트를 권장합니다. 두 제품을 동시에 사용할 때는 한 제품을 아침에, 다른 제품을 저녁에 나누어 사용하는 것도 좋은 방법입니다. 만약 피부에 자극이 발생하면 즉시 사용을 중단하고 전문의와 상담하는 것이 안전합니다.\n",
    "\n",
    "[예시2]\n",
    "질문: 잡티 제거에 좋은 성분을 가진 화장품은?\n",
    "답변:  \n",
    "잡티 제거에 효과적인 성분으로는 비타민 C, 나이아신아마이드, 알부틴, 코직산 등이 있습니다. 이 성분들은 멜라닌 생성을 억제하고 피부 톤을 밝게 하는 데 도움을 줄 수 있습니다. 제품을 선택할 때 이러한 성분이 포함되어 있는지 확인해보세요. 다만, 피부 타입에 따라 반응이 다를 수 있으므로 사용 전 패치 테스트를 권장합니다.\n",
    "\n",
    "[예시3]\n",
    "질문: 세척력 좋은 클렌징폼 추천해줘\n",
    "답변:  \n",
    "세척력이 좋은 클렌징폼을 찾으신다면, 센카 퍼펙트 휩을 추천합니다. 이 제품은 업그레이드된 생크림처럼 조밀하고 풍성한 거품이 특징으로, 피부에 자극을 최소화하면서도 노폐물과 피지, 메이크업 잔여물까지 말끔하게 세정해줍니다. 실크 에센스와 더블 히알루론산 등 보습 성분이 함유되어 있어 세안 후에도 피부가 땅기지 않고 부드럽고 촉촉하게 유지됩니다. 실제 사용자들 사이에서도 \"유분기가 많은 지성 피부도 개운하게 세정된다\", \"잔여감 없이 말끔하게 세안돼서 만족스럽다\"는 후기가 많으며, 민감한 피부에도 자극 없이 사용할 수 있어 많은 사랑을 받고 있습니다.\n",
    "\n",
    "[예시4]\n",
    "질문: 향없는 토너 있을까?\n",
    "답변:  \n",
    "유리아쥬 제모스 토너는 온천수와 히알루론산 등 보습에 특화된 성분이 함유되어 있어 겨울철 건조함, 각질, 피부 당김에 고민이 많은 분들에게 특히 추천하는 제품입니다. 인공향료가 들어 있지 않은 무향·저자극 포뮬라라서, 향에 민감하거나 민감성 피부를 가진 분들도 안심하고 사용할 수 있습니다. 실제 사용자들 사이에서도 \"무향이라 마음에 든다\", \"자극 없이 순하다\"는 긍정적인 평가가 많으며, 전반적으로 만족도가 매우 높은 토너입니다.\n",
    "---\n",
    "[참고 문서]\n",
    "{context}\n",
    "\n",
    "[실제 질문]\n",
    "{question}\n",
    "\"\"\""
   ]
  },
  {
   "cell_type": "code",
   "execution_count": 214,
   "id": "d03b1fa5",
   "metadata": {},
   "outputs": [],
   "source": [
    "prompt = ChatPromptTemplate.from_messages([\n",
    "    (\"system\", template_with_examples),\n",
    "    (\"human\", \"{question}\")\n",
    "])"
   ]
  },
  {
   "cell_type": "code",
   "execution_count": 215,
   "id": "71267b68",
   "metadata": {},
   "outputs": [],
   "source": [
    "retriever = vectordb.as_retriever(\n",
    "    search_kwargs={\n",
    "        \"k\": 8,\n",
    "        \"filter\": {  # 필터 조건\n",
    "            \"$or\": [\n",
    "                {\"type\": {\"$eq\": \"cosmetic\"}},\n",
    "                {\"type\": {\"$eq\": \"ingredient\"}}\n",
    "            ]\n",
    "        },\n",
    "        \"include\": [\"metadatas\", \"documents\", \"distances\"]  \n",
    "    }\n",
    ")"
   ]
  },
  {
   "cell_type": "code",
   "execution_count": 216,
   "id": "feed9f83",
   "metadata": {},
   "outputs": [],
   "source": [
    "# RAG \n",
    "qa_chain = RetrievalQA.from_chain_type(\n",
    "    llm=llm,\n",
    "    retriever=retriever,\n",
    "    chain_type_kwargs={\"prompt\": ChatPromptTemplate.from_template(template_with_examples)},\n",
    "    return_source_documents=True\n",
    ")"
   ]
  },
  {
   "cell_type": "code",
   "execution_count": 217,
   "id": "908dfcf0",
   "metadata": {},
   "outputs": [],
   "source": [
    "# 6. 질문 실행\n",
    "query = \"수분감 넘치는 로션 추천해줘\"\n",
    "result = qa_chain({\"query\": query})\n"
   ]
  },
  {
   "cell_type": "code",
   "execution_count": 218,
   "id": "e0efefcc",
   "metadata": {},
   "outputs": [
    {
     "name": "stdout",
     "output_type": "stream",
     "text": [
      "🧠 답변: 수분감 넘치는 로션을 찾으신다면, '라로슈포제 시카플라스트 밤 B5'를 추천합니다. 이 제품은 피부 장벽을 강화하고 수분을 공급하는 데 탁월한 효과가 있는 것으로 알려져 있습니다. 주요 성분으로는 판테놀(비타민 B5)과 마데카소사이드가 포함되어 있습니다. 판테놀은 피부에 수분을 공급하고 진정시키는 데 도움을 주며, 마데카소사이드는 피부 재생을 촉진하고 손상된 피부를 회복시키는 데 효과적입니다.\n",
      "\n",
      "실제 사용자 리뷰에 따르면, \"피부가 건조할 때 발라주면 즉각적으로 촉촉해진다\", \"끈적임 없이 빠르게 흡수되어 사용감이 좋다\"는 긍정적인 평가가 많습니다. 또한, 민감한 피부에도 자극 없이 사용할 수 있어 많은 분들이 만족하고 있습니다. 이 로션은 특히 건조한 계절이나 피부가 민감해졌을 때 사용하기에 적합한 제품입니다.\n"
     ]
    }
   ],
   "source": [
    "print(\"🧠 답변:\", result[\"result\"])"
   ]
  },
  {
   "cell_type": "code",
   "execution_count": null,
   "id": "1c8411c1",
   "metadata": {},
   "outputs": [],
   "source": []
  }
 ],
 "metadata": {
  "kernelspec": {
   "display_name": "pibu",
   "language": "python",
   "name": "python3"
  },
  "language_info": {
   "codemirror_mode": {
    "name": "ipython",
    "version": 3
   },
   "file_extension": ".py",
   "mimetype": "text/x-python",
   "name": "python",
   "nbconvert_exporter": "python",
   "pygments_lexer": "ipython3",
   "version": "3.9.21"
  }
 },
 "nbformat": 4,
 "nbformat_minor": 5
}
